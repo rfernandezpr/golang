{
  "nbformat": 4,
  "nbformat_minor": 0,
  "metadata": {
    "colab": {
      "provenance": [],
      "collapsed_sections": [],
      "authorship_tag": "ABX9TyNyrFh/frnhOgZbsG89EGN4",
      "include_colab_link": true
    },
    "kernelspec": {
      "name": "python3",
      "display_name": "Python 3"
    },
    "language_info": {
      "name": "python"
    }
  },
  "cells": [
    {
      "cell_type": "markdown",
      "metadata": {
        "id": "view-in-github",
        "colab_type": "text"
      },
      "source": [
        "<a href=\"https://colab.research.google.com/github/rfernandezpr/golang/blob/master/Aula1.ipynb\" target=\"_parent\"><img src=\"https://colab.research.google.com/assets/colab-badge.svg\" alt=\"Open In Colab\"/></a>"
      ]
    },
    {
      "cell_type": "code",
      "execution_count": null,
      "metadata": {
        "id": "EU2LayUIrHmN"
      },
      "outputs": [],
      "source": []
    },
    {
      "cell_type": "code",
      "source": [],
      "metadata": {
        "id": "QRAxNW3QrkP7"
      },
      "execution_count": null,
      "outputs": []
    },
    {
      "cell_type": "code",
      "source": [
        "a = float(input('Ingrese el valor de a?'))\n",
        "b = float(input('Ingrese el valor de b?'))\n",
        "c = a + b\n",
        "d = a * b\n",
        "print(f'el resultado de {a} + {b} es {c}')\n",
        "print(f'el resultado de {a} * {b} es {d}')"
      ],
      "metadata": {
        "id": "YgNUwY3-qVtX",
        "outputId": "01b16c46-f14f-4727-f470-46c6eefe8c2f",
        "colab": {
          "base_uri": "https://localhost:8080/"
        }
      },
      "execution_count": null,
      "outputs": [
        {
          "output_type": "stream",
          "name": "stdout",
          "text": [
            "Ingrese el valor de a?3\n",
            "Ingrese el valor de b?7\n",
            "el resultado de 3.0 + 7.0 es 10.0\n",
            "el resultado de 3.0 * 7.0 es 21.0\n"
          ]
        }
      ]
    }
  ]
}